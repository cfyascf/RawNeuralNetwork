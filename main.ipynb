{
 "cells": [
  {
   "cell_type": "code",
   "execution_count": 1,
   "metadata": {},
   "outputs": [],
   "source": [
    "import random\n",
    "import numpy as np\n",
    "import pandas as pd"
   ]
  },
  {
   "cell_type": "code",
   "execution_count": 10,
   "metadata": {},
   "outputs": [],
   "source": [
    "# ------------- * FUNCTIONS * -------------\n",
    "\n",
    "def get_content(file_path):\n",
    "    data = pd.read_csv(file_path)\n",
    "    labels = data['Health_Issue']\n",
    "    features = data.drop('Health_Issue', axis=1)\n",
    "    \n",
    "    # ..transforming categorical values into numeric values..\n",
    "    for column in features.columns:\n",
    "        if(features[column].dtype == 'object'):\n",
    "            features[column] = features[column].astype('category').cat.codes\n",
    "            \n",
    "    testing_samples = int(20 * len(data) / 100)\n",
    "    \n",
    "    testing_labels = labels.iloc[:testing_samples]\n",
    "    testing_features = features.iloc[:testing_samples]\n",
    "    \n",
    "    training_labels = labels.iloc[testing_samples:]\n",
    "    training_features = features.iloc[testing_samples:]\n",
    "            \n",
    "    return testing_labels.to_numpy(), testing_features.to_numpy(), training_labels.to_numpy(), training_features.to_numpy()\n",
    "\n",
    "def test_model():\n",
    "    sample = random.randrange(0, testing_samples)\n",
    "    \n",
    "    input_biased = np.hstack((bias, testing_features[sample]))\n",
    "    output = np.tanh(weights1.dot(input_biased))\n",
    "    output_biased = np.insert(output, 0, bias)\n",
    "    result = np.tanh(weights2.dot(output_biased))\n",
    "    \n",
    "    return result, testing_labels[sample]"
   ]
  },
  {
   "cell_type": "code",
   "execution_count": 11,
   "metadata": {},
   "outputs": [],
   "source": [
    "# ------------- * CONSTANTS * -------------\n",
    "\n",
    "dataset = 'synthetic_covid_impact_on_work.csv'\n",
    "testing_labels, testing_features, training_labels, training_features = get_content(dataset)\n",
    "\n",
    "training_samples = len(training_features)\n",
    "testing_samples = len(testing_features)\n",
    "\n",
    "epocs = 100000 \n",
    "# ..each epoc represents the time when all\n",
    "# the data has been ran throught, if it's too big\n",
    "# it's probably going to lead your model to overfitting..\n",
    "\n",
    "learning_rate = 0.01\n",
    "# ..keep it low, this value has \n",
    "# a lot of power in progressing the weights..\n",
    "\n",
    "patterns = training_features.shape[1]\n",
    "# ..how many features there is \n",
    "# to train from..\n",
    "\n",
    "bias = 1\n",
    "# ..changes the function's angle..\n",
    "\n",
    "input_neurons = patterns\n",
    "hidden_neurons = 128\n",
    "output_neurons = 1"
   ]
  },
  {
   "cell_type": "code",
   "execution_count": 12,
   "metadata": {},
   "outputs": [],
   "source": [
    "\n",
    "# ------------- * VARIABLES * -------------\n",
    "weights1 = np.random.rand(hidden_neurons, input_neurons + 1)\n",
    "weights2 = np.random.rand(output_neurons, hidden_neurons + 1)\n",
    "# ..the weights matrix need to have 1 column more\n",
    "# because the bias is going to be inserted later on..\n",
    "\n",
    "weights1 = weights1 - 0.5\n",
    "weights2 = weights2 - 0.5\n",
    "# ..in this specific dataset, as the values are considerably \n",
    "# small, if the weights are too high, it's going to lead\n",
    "# problems in the gradient calculation..\n",
    "\n",
    "errors = np.zeros(training_samples)\n",
    "errors_mean = np.zeros(epocs)"
   ]
  },
  {
   "cell_type": "code",
   "execution_count": 17,
   "metadata": {},
   "outputs": [
    {
     "name": "stdout",
     "output_type": "stream",
     "text": [
      "mean error of epoch: 0.15966412905757751\n"
     ]
    },
    {
     "ename": "IndexError",
     "evalue": "list assignment index out of range",
     "output_type": "error",
     "traceback": [
      "\u001b[1;31m---------------------------------------------------------------------------\u001b[0m",
      "\u001b[1;31mIndexError\u001b[0m                                Traceback (most recent call last)",
      "Cell \u001b[1;32mIn[17], line 40\u001b[0m\n\u001b[0;32m     38\u001b[0m     test_result, test_label \u001b[38;5;241m=\u001b[39m test_model()\n\u001b[0;32m     39\u001b[0m     error \u001b[38;5;241m=\u001b[39m test_label \u001b[38;5;241m-\u001b[39m test_result\n\u001b[1;32m---> 40\u001b[0m     \u001b[43mtesting_errors\u001b[49m\u001b[43m[\u001b[49m\u001b[43mk\u001b[49m\u001b[43m]\u001b[49m \u001b[38;5;241m=\u001b[39m (error \u001b[38;5;241m*\u001b[39m error)\u001b[38;5;241m/\u001b[39m\u001b[38;5;241m2\u001b[39m\n\u001b[0;32m     42\u001b[0m \u001b[38;5;28;01mif\u001b[39;00m(testing_errors\u001b[38;5;241m.\u001b[39mmean() \u001b[38;5;241m<\u001b[39m \u001b[38;5;241m0.1\u001b[39m):\n\u001b[0;32m     43\u001b[0m     \u001b[38;5;28mprint\u001b[39m(\u001b[38;5;124m\"\u001b[39m\u001b[38;5;124mearly stoppin: model hit 85\u001b[39m\u001b[38;5;132;01m% o\u001b[39;00m\u001b[38;5;124mr more of accuracy in testing five times.\u001b[39m\u001b[38;5;124m\"\u001b[39m)\n",
      "\u001b[1;31mIndexError\u001b[0m: list assignment index out of range"
     ]
    }
   ],
   "source": [
    "# ------------- * TRAINING * -------------\n",
    "\n",
    "# ..for each sample in each epoc..\n",
    "for i in range(epocs):\n",
    "    for j in range(training_samples):\n",
    "        \n",
    "        input_biased = np.hstack((bias, training_features[j]))\n",
    "        # ..inserting the bias into the inputs..\n",
    "        \n",
    "        output = np.tanh(weights1.dot(input_biased))\n",
    "        # ..output of first layer X hidden layer..\n",
    "        \n",
    "        output_biased = np.insert(output, 0, bias)\n",
    "        # ..inserting the bias into the output of the first layer..\n",
    "        \n",
    "        result = np.tanh(weights2.dot(output_biased))\n",
    "        # ..output of hidden layer X output layer, the result..\n",
    "        \n",
    "        error = training_labels[j] - result\n",
    "        errors[j] = (error.transpose().dot(error))/2\n",
    "        # ..get the error and make it quadractic so it's more noticeble,\n",
    "        # bigger errors tend to outstand more..\n",
    "        \n",
    "        delta2 = np.diag(error).dot((1 - result*result))          \n",
    "        vdelta2 = (weights2.transpose()).dot(delta2)      \n",
    "        delta1 = np.diag(1 - output_biased*output_biased).dot(vdelta2)\n",
    "        # ..backpropagation: gradient calc..\n",
    "        \n",
    "        weights1 = weights1 + learning_rate*(np.outer(delta1[1:], input_biased))\n",
    "        weights2 = weights2 + learning_rate*(np.outer(delta2, output_biased))\n",
    "        # ..adjust the weight's matrix for the next feature..\n",
    "        \n",
    "    errors_mean[i] = errors.mean()\n",
    "    print(f\"mean error of epoch: {errors_mean[i]}\")\n",
    "    \n",
    "    testing_times = 100\n",
    "    testing_errors = np.zeros(testing_times)\n",
    "    for k in range(testing_times):\n",
    "        test_result, test_label = test_model()\n",
    "        error = test_label - test_result\n",
    "        testing_errors[k] = (error * error)/2\n",
    "            \n",
    "    if(testing_errors.mean() < 0.1):\n",
    "        print(\"early stoppin: model hit 85% or more of accuracy in testing five times.\")\n",
    "        break"
   ]
  }
 ],
 "metadata": {
  "kernelspec": {
   "display_name": "Python 3",
   "language": "python",
   "name": "python3"
  },
  "language_info": {
   "codemirror_mode": {
    "name": "ipython",
    "version": 3
   },
   "file_extension": ".py",
   "mimetype": "text/x-python",
   "name": "python",
   "nbconvert_exporter": "python",
   "pygments_lexer": "ipython3",
   "version": "3.12.2"
  }
 },
 "nbformat": 4,
 "nbformat_minor": 2
}
